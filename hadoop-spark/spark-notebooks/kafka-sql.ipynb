{
 "cells": [
  {
   "cell_type": "code",
   "execution_count": 1,
   "id": "50513617-940d-4b36-889d-220c4c64235b",
   "metadata": {},
   "outputs": [
    {
     "data": {
      "text/html": [
       "\n",
       "            <div>\n",
       "                <p><b>SparkSession - in-memory</b></p>\n",
       "                \n",
       "        <div>\n",
       "            <p><b>SparkContext</b></p>\n",
       "\n",
       "            <p><a href=\"http://fdd76dc5f29c:4041\">Spark UI</a></p>\n",
       "\n",
       "            <dl>\n",
       "              <dt>Version</dt>\n",
       "                <dd><code>v3.2.1</code></dd>\n",
       "              <dt>Master</dt>\n",
       "                <dd><code>local</code></dd>\n",
       "              <dt>AppName</dt>\n",
       "                <dd><code>kafka-example</code></dd>\n",
       "            </dl>\n",
       "        </div>\n",
       "        \n",
       "            </div>\n",
       "        "
      ],
      "text/plain": [
       "<pyspark.sql.session.SparkSession at 0x7f48d48cb880>"
      ]
     },
     "execution_count": 1,
     "metadata": {},
     "output_type": "execute_result"
    }
   ],
   "source": [
    "from pyspark.sql import SparkSession\n",
    "\n",
    "scala_version = '2.12'  # TODO: Ensure this is correct\n",
    "spark_version = '3.2.1'\n",
    "packages = [\n",
    "    f'org.apache.spark:spark-sql-kafka-0-10_{scala_version}:{spark_version}',\n",
    "    'org.apache.kafka:kafka-clients:3.2.0'\n",
    "]\n",
    "spark = SparkSession.builder\\\n",
    "   .master(\"local\")\\\n",
    "   .appName(\"kafka-example\")\\\n",
    "   .config(\"spark.jars.packages\", \",\".join(packages))\\\n",
    "   .getOrCreate()\n",
    "spark"
   ]
  },
  {
   "cell_type": "code",
   "execution_count": null,
   "id": "e99220a9-7701-4f97-bb48-3335d5cbd393",
   "metadata": {},
   "outputs": [],
   "source": [
    "# TODO: Replace with real list of data\n",
    "data = ['Hello', 'World']\n",
    "df = spark.createDataFrame([{'value': v} for v in data])"
   ]
  },
  {
   "cell_type": "markdown",
   "id": "2e30843b-b8dc-4fa3-899f-225273221bd2",
   "metadata": {},
   "source": [
    "From the host, create the topic\n",
    "\n",
    "```sh\n",
    "kafka-topics --create --bootstrap-server localhost:9092 --topic foobar --partitions=1 --replication-factor=1\n",
    "```"
   ]
  },
  {
   "cell_type": "code",
   "execution_count": 13,
   "id": "1400d30f-4f05-456b-87ea-a2793a92f4a8",
   "metadata": {},
   "outputs": [],
   "source": [
    "topic_name = 'foobar'\n",
    "df.write.format(\"kafka\")\\\n",
    "  .option(\"kafka.bootstrap.servers\", \"kafka:29092\")\\\n",
    "  .option(\"topic\", topic_name)\\\n",
    "  .save()"
   ]
  },
  {
   "cell_type": "code",
   "execution_count": 24,
   "id": "1f694962-e282-4ea4-a4be-ab88821f7c59",
   "metadata": {},
   "outputs": [
    {
     "name": "stdout",
     "output_type": "stream",
     "text": [
      "+---------------+------+-----+\n",
      "|topic_partition|offset|value|\n",
      "+---------------+------+-----+\n",
      "|       foobar:0|     0|Hello|\n",
      "|       foobar:0|     1|World|\n",
      "|       foobar:0|     2|Hello|\n",
      "|       foobar:0|     3|World|\n",
      "+---------------+------+-----+\n",
      "\n"
     ]
    }
   ],
   "source": [
    "from pyspark.sql.functions import col, concat, lit\n",
    "\n",
    "kafkaDf = spark.read.format(\"kafka\")\\\n",
    "  .option(\"kafka.bootstrap.servers\", \"kafka:29092\")\\\n",
    "  .option(\"subscribe\", topic_name)\\\n",
    "  .option(\"startingOffsets\", \"earliest\")\\\n",
    "  .load()\n",
    "kafkaDf.select(\n",
    "    concat(col(\"topic\"), lit(':'), col(\"partition\").cast(\"string\")).alias(\"topic_partition\"),\n",
    "    col(\"offset\"),\n",
    "    col(\"value\").cast(\"string\")\n",
    ").show()"
   ]
  }
 ],
 "metadata": {
  "kernelspec": {
   "display_name": "Python 3 (ipykernel)",
   "language": "python",
   "name": "python3"
  },
  "language_info": {
   "codemirror_mode": {
    "name": "ipython",
    "version": 3
   },
   "file_extension": ".py",
   "mimetype": "text/x-python",
   "name": "python",
   "nbconvert_exporter": "python",
   "pygments_lexer": "ipython3",
   "version": "3.10.4"
  }
 },
 "nbformat": 4,
 "nbformat_minor": 5
}
